{
 "cells": [
  {
   "cell_type": "code",
   "execution_count": 1,
   "metadata": {},
   "outputs": [],
   "source": [
    "import glob\n",
    "import os\n",
    "import pandas as pd\n",
    "import numpy as np"
   ]
  },
  {
   "cell_type": "code",
   "execution_count": null,
   "metadata": {},
   "outputs": [],
   "source": [
    "\"\"\"\n",
    "Looking at a blank Kernell is just as intimidating as looking at a blank word document.\n",
    "I know where I want to end up, butordering my thoughtscan be a problem.\n",
    "Once again I will use this notebook as...well a notebook. With notes and thoughts in the comments.\n",
    "\n",
    "I would eventually like to create a \"prework\" script that will have all of the imports that I\n",
    "commonly run as a module that I can import.\n",
    "\n",
    "\n",
    "For future reference: I never used a virtual environment for data analysis, but the documentation\n",
    "for VS Code recomends using them \"to manage dependancies and isolate projects\"\n",
    "\n",
    "Also! What is the rhyme/reason for the paywall @ 'towards data science'???\n",
    "\"\"\""
   ]
  },
  {
   "cell_type": "code",
   "execution_count": 6,
   "metadata": {},
   "outputs": [],
   "source": [
    "data = pd.read_csv('StreamingHistoryC.csv')"
   ]
  },
  {
   "cell_type": "code",
   "execution_count": 8,
   "metadata": {},
   "outputs": [
    {
     "name": "stdout",
     "output_type": "stream",
     "text": [
      "<class 'pandas.core.frame.DataFrame'>\n",
      "RangeIndex: 8365 entries, 0 to 8364\n",
      "Data columns (total 5 columns):\n",
      " #   Column                      Non-Null Count  Dtype \n",
      "---  ------                      --------------  ----- \n",
      " 0   Artist Name                 8365 non-null   object\n",
      " 1   Document Index (generated)  8365 non-null   int64 \n",
      " 2   End Time                    8365 non-null   object\n",
      " 3   Track Name                  8365 non-null   object\n",
      " 4   Ms Played                   8365 non-null   int64 \n",
      "dtypes: int64(2), object(3)\n",
      "memory usage: 326.9+ KB\n"
     ]
    }
   ],
   "source": [
    "data.info()"
   ]
  },
  {
   "cell_type": "code",
   "execution_count": null,
   "metadata": {},
   "outputs": [],
   "source": [
    "#I struggled with datetime, on my first project. I need to break endtime into date and time columns\n",
    "#I also need to reorder the df so doc. index is the overall index\n",
    "#maybe use regular expression to parse date and time into different columns?\n",
    "\n",
    "#Definitely need to convert Ms Played into minutes.seconds\n",
    "\n",
    "\"\"\"\n",
    "IDEAS --\n",
    "\n",
    "Intro: To start - analyze Che's acct. over the year to see if there is any noticeable change (+/- in \n",
    "a certain artist, genre, song, podcast, repetition) as possible indication of new user (me).\n",
    "\n",
    "COLOR-CODE: songs vs. podcasts, different genres, most frequently played genre/artist, etc.\n",
    "\n",
    "CORRELATE: btwn time-of-day & artist/genre/song? No is a valid conclusion.\n",
    "\n",
    "IMPROVE: \"Does the analysis become stronger when we take 'your library' into consideration?\" ie:\n",
    "a more sophsticated analysis will come down the line\n",
    "\"\"\""
   ]
  },
  {
   "cell_type": "code",
   "execution_count": 14,
   "metadata": {},
   "outputs": [
    {
     "data": {
      "text/plain": [
       "(946, 2780)"
      ]
     },
     "execution_count": 14,
     "metadata": {},
     "output_type": "execute_result"
    }
   ],
   "source": [
    "len(data[\"Artist Name\"].unique()), len(data[\"Track Name\"].unique()),"
   ]
  },
  {
   "cell_type": "code",
   "execution_count": 17,
   "metadata": {},
   "outputs": [
    {
     "name": "stdout",
     "output_type": "stream",
     "text": [
      "Jazmine Sullivan           619\n",
      "Beyoncé                    500\n",
      "James Arthur               482\n",
      "Dermot Kennedy             238\n",
      "Burna Boy                  215\n",
      "                          ... \n",
      "Thayne Jasperson             1\n",
      "Therapy for Black Girls      1\n",
      "People & Songs               1\n",
      "Fat Joe                      1\n",
      "Andy Williams                1\n",
      "Name: Artist Name, Length: 946, dtype: int64\n",
      "====================================\n",
      "Price Tags (feat. Anderson .Paak)    159\n",
      "Interstellar.                        156\n",
      "LIGHT TURN GREEN                     121\n",
      "Expectations (feat. Alex Isley)      105\n",
      "Go Crazy                              98\n",
      "                                    ... \n",
      "Fun Fact ft. Rick Ross                 1\n",
      "Outta Time (feat. Drake)               1\n",
      "Same Space? - Remix                    1\n",
      "Smile (feat. H.E.R.)                   1\n",
      "Hate to See Your Heart Break           1\n",
      "Name: Track Name, Length: 2780, dtype: int64\n"
     ]
    }
   ],
   "source": [
    "print(data[\"Artist Name\"].value_counts())\n",
    "print(\"====================================\")\n",
    "print(data[\"Track Name\"].value_counts())"
   ]
  },
  {
   "cell_type": "code",
   "execution_count": 18,
   "metadata": {},
   "outputs": [
    {
     "data": {
      "text/plain": [
       "''"
      ]
     },
     "execution_count": 18,
     "metadata": {},
     "output_type": "execute_result"
    }
   ],
   "source": [
    "\"\"\"\n",
    "12/12/21 12:40 AM\n",
    "\n",
    "I have begun to clean and evaluate the data. Worth remembering that I will have to do this again\n",
    "for \"my\" dataset. I can either try evaluating the data as is or clean it further. It feels\n",
    "stupid to try and perform any analysis knowing that I will need to parse and format it.\n",
    "\"\"\""
   ]
  }
 ],
 "metadata": {
  "interpreter": {
   "hash": "4821507fb29500bf4e9515403b8fa8884842ea5afad1c7b71487e29b58238a77"
  },
  "kernelspec": {
   "display_name": "Python 3.9.7 64-bit ('base': conda)",
   "language": "python",
   "name": "python3"
  },
  "language_info": {
   "codemirror_mode": {
    "name": "ipython",
    "version": 3
   },
   "file_extension": ".py",
   "mimetype": "text/x-python",
   "name": "python",
   "nbconvert_exporter": "python",
   "pygments_lexer": "ipython3",
   "version": "3.9.7"
  },
  "orig_nbformat": 4
 },
 "nbformat": 4,
 "nbformat_minor": 2
}
